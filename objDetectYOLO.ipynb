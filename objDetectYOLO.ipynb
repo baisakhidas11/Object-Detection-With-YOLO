import cv2
import numpy as np
import matplotlib.pyplot as plt

yolo = cv2.dnn.readNet("./yolov3-tiny.weights", "./yolov3-tiny.cfg")

classes=[]
with open("./coco.names",'r')as f:
  classes=f.read().splitlines()

len(classes)

img=cv2.imread("./pic2.jpg")
blob=cv2.dnn.blobFromImage(img, 1/255, (320,320), (0,0,0), swapRB=True, crop=False)

i=blob[0].reshape(320,320,3)
plt.imshow(i)

yolo.setInput(blob)

output_layes_name=yolo.getUnconnectedOutLayersNames()
layeroutput=yolo.forward(output_layes_name)

boxes=[]
confidences=[]
class_ids=[]
for output in layeroutput:
  for detection in output:
    score=detection[5:]
    class_id=np.argmax(score)
    confidence=score[class_id]
    if confidence > 0.7:
      center_x=int(detection[0]*width)      
      center_x=int(detection[0]*height)
      w=int(detection[0]*width)
      h=int(detection[0]*height)
      x=int(center_x- w/2)
      y=int(center_y- h/2)
      boxes.append([x,y,w,h])
      confidences.append(float(confidence))
      class_ids.append(class_id)

indexes=cv2.dnn.NMSBoxes(boxes, confidences, 0.5, 0.4)

font =cv2.FONT_HERSHEY_PLAIN
colors=np.random.uniform(0,255, size=(len(boxes),3))

for i in range(len(boxes)):
  if i in indexes:
    x,y,w,h=boxes[i]
    label=str(classes[class_ids[i]])
    color=colors[i]
    cv2.rectangle(img, (x,y),(x+w, y+h),color,2)
    cv2.putText(img,label+" "+confi,(x,y+20),font,2,(255,255,255),2)
  cv2.imshow("street",img)
  cv2.waitKey(0)
  cv2.destroyAllWindows()

plt.imshow(img)

cv2.imwrite("./pic2.jpg",img)

